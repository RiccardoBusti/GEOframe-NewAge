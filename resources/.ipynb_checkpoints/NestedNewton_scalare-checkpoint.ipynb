{
 "cells": [
  {
   "cell_type": "markdown",
   "metadata": {},
   "source": [
    "# Nested Newton \n",
    "## scalar case\n",
    "\n",
    "- Author: Niccolò Tubini, Enrico Borinato\n"
   ]
  },
  {
   "cell_type": "code",
   "execution_count": 1,
   "metadata": {},
   "outputs": [],
   "source": [
    "import numpy as np\n",
    "import matplotlib.pyplot as plt\n",
    "import matplotlib.style as style \n",
    "from mpl_toolkits.axes_grid1.inset_locator import zoomed_inset_axes, mark_inset\n",
    "\n",
    "\n",
    "style.available\n",
    "style.use('seaborn-whitegrid')\n",
    "\n",
    "nice_fonts = {\n",
    "        \"legend.frameon\": True,\n",
    "        \"legend.fancybox\": True,\n",
    "        \"legend.facecolor\": \"white\",\n",
    "        \"axes.edgecolor\": \"0.8\",\n",
    "        \"axes.linewidth\": 0.6,\n",
    "        \"grid.linewidth\":0.4,\n",
    "        # Use LaTeX to write all text\n",
    "        \"text.usetex\": True,\n",
    "        \"font.family\": \"serif\",\n",
    "        # Use 10pt font in plots, to match 10pt font in document\n",
    "        \"axes.labelsize\": 10,\n",
    "        \"font.size\": 10,\n",
    "        # Make the legend/label fonts a little smaller\n",
    "        \"legend.fontsize\": 8,\n",
    "        \"xtick.labelsize\": 8,\n",
    "        \"ytick.labelsize\": 8,\n",
    "}\n",
    "\n",
    "plt.rcParams.update(nice_fonts)"
   ]
  },
  {
   "cell_type": "code",
   "execution_count": 56,
   "metadata": {},
   "outputs": [],
   "source": [
    "S_max = .2\n",
    "coeff = 1\n",
    "exponent = 3\n",
    "\n",
    "\n",
    "def f_fun(x):\n",
    "    'theta(psi)'\n",
    "    \n",
    "\n",
    "    if x<S_max:\n",
    "        return x + coeff*x**exponent\n",
    "    else:\n",
    "        return x + coeff*S_max**exponent\n",
    "\n",
    "def df_fun(x):\n",
    "    'c(psi)'\n",
    "    \n",
    "    if x<S_max:\n",
    "        return 1 + exponent*coeff*x**(exponent-1)\n",
    "    else:\n",
    "        return 1\n",
    "\n",
    "def p_fun(x):\n",
    "    'c(psi)'\n",
    "    \n",
    "    if x<S_max:\n",
    "        return 1 + exponent*coeff*x**(exponent-1)\n",
    "    else:\n",
    "        return 1 + exponent*coeff*S_max**(exponent-1)\n",
    "\n",
    "def f1_fun(x):\n",
    "    'c(psi)'\n",
    "    \n",
    "    if x<S_max:\n",
    "        return f_fun(x)\n",
    "    else:\n",
    "        return f_fun(S_max) + p_fun(S_max)*(x-S_max)\n",
    "    \n",
    "def f2_fun(x):\n",
    "\n",
    "    return f1_fun(x)-f_fun(x)\n",
    "\n",
    "def q_fun(x):\n",
    "\n",
    "    return p_fun(x)-df_fun(x)\n"
   ]
  },
  {
   "cell_type": "code",
   "execution_count": 81,
   "metadata": {},
   "outputs": [],
   "source": [
    "NMAX = 101\n",
    "x = np.linspace(0,2,NMAX)\n",
    "\n",
    "f = np.zeros(NMAX)\n",
    "df = np.zeros(NMAX)\n",
    "f1 = np.zeros(NMAX)\n",
    "f2 = np.zeros(NMAX)\n",
    "p = np.zeros(NMAX)\n",
    "q = np.zeros(NMAX)\n",
    "\n",
    "\n",
    "for i in range(0,NMAX):\n",
    "    f[i] = f_fun(x[i])\n",
    "    df[i] = df_fun(x[i])\n",
    "    p[i] = p_fun(x[i])\n",
    "    f1[i] = f1_fun(x[i])\n",
    "    q[i] = q_fun(x[i])\n",
    "    f2[i] = f2_fun(x[i])\n"
   ]
  },
  {
   "cell_type": "code",
   "execution_count": 84,
   "metadata": {},
   "outputs": [],
   "source": [
    "np.savetxt('x.csv',x)\n",
    "np.savetxt('f.csv',f)\n",
    "np.savetxt('df.csv',df)\n",
    "np.savetxt('p.csv',p)\n",
    "np.savetxt('f1.csv',f1)"
   ]
  },
  {
   "cell_type": "code",
   "execution_count": 58,
   "metadata": {},
   "outputs": [
    {
     "data": {
      "text/plain": [
       "[<matplotlib.lines.Line2D at 0x2397a38d948>]"
      ]
     },
     "execution_count": 58,
     "metadata": {},
     "output_type": "execute_result"
    },
    {
     "data": {
      "image/png": "[encoded data removed]",
      "text/plain": [
       "<Figure size 432x288 with 1 Axes>"
      ]
     },
     "metadata": {},
     "output_type": "display_data"
    }
   ],
   "source": [
    "plt.plot(x,f)\n",
    "plt.plot(x,f1)\n",
    "plt.plot(x,f2)"
   ]
  },
  {
   "cell_type": "code",
   "execution_count": 59,
   "metadata": {},
   "outputs": [
    {
     "data": {
      "text/plain": [
       "[<matplotlib.lines.Line2D at 0x2397a14bbc8>]"
      ]
     },
     "execution_count": 59,
     "metadata": {},
     "output_type": "execute_result"
    },
    {
     "data": {
      "image/png": "[encoded data removed]",
      "text/plain": [
       "<Figure size 432x288 with 1 Axes>"
      ]
     },
     "metadata": {},
     "output_type": "display_data"
    }
   ],
   "source": [
    "plt.plot(x,df)\n",
    "plt.plot(x,p)\n",
    "plt.plot(x,q)"
   ]
  },
  {
   "cell_type": "code",
   "execution_count": null,
   "metadata": {},
   "outputs": [],
   "source": []
  },
  {
   "cell_type": "markdown",
   "metadata": {},
   "source": [
    "## Compute $x^*$"
   ]
  },
  {
   "cell_type": "code",
   "execution_count": 60,
   "metadata": {},
   "outputs": [
    {
     "data": {
      "text/plain": [
       "0.2"
      ]
     },
     "execution_count": 60,
     "metadata": {},
     "output_type": "execute_result"
    }
   ],
   "source": [
    "x_star = S_max\n",
    "x_star"
   ]
  },
  {
   "cell_type": "code",
   "execution_count": 66,
   "metadata": {},
   "outputs": [
    {
     "data": {
      "text/plain": [
       "0.18000000000000002"
      ]
     },
     "execution_count": 66,
     "metadata": {},
     "output_type": "execute_result"
    }
   ],
   "source": [
    "0.2*0.9"
   ]
  },
  {
   "cell_type": "code",
   "execution_count": 85,
   "metadata": {},
   "outputs": [
    {
     "name": "stdout",
     "output_type": "stream",
     "text": [
      "\touter iteration:  0.14410872517939097\n",
      "inner\n",
      "0.18000000000000002\n",
      "0.0\n",
      "0.329940725179391\n",
      "\t\tinner iteration:  0.14410872517939097\n",
      "inner\n",
      "0.3113422577282091\n",
      "0.0\n",
      "0.329940725179391\n",
      "\t\tinner iteration:  0.002762603476203218\n",
      "inner\n",
      "0.3088756474815991\n",
      "0.0\n",
      "0.329940725179391\n",
      "\t\tinner iteration:  5.551115123125783e-17\n",
      "\touter iteration:  0.01306507769779186\n",
      "inner\n",
      "0.3088756474815991\n",
      "0.013065077697791916\n",
      "0.329940725179391\n",
      "\t\tinner iteration:  0.01306507769779186\n",
      "inner\n",
      "0.321940725179391\n",
      "0.01463288702152694\n",
      "0.329940725179391\n",
      "\t\tinner iteration:  0.0\n",
      "\touter iteration:  0.0\n"
     ]
    },
    {
     "data": {
      "text/plain": [
       "0.321940725179391"
      ]
     },
     "execution_count": 85,
     "metadata": {},
     "output_type": "execute_result"
    }
   ],
   "source": [
    "theta = 0.329940725179391\n",
    "x_guess = min(0.2*0.9,x_star)\n",
    "\n",
    "x_inner = []\n",
    "x_outer = []\n",
    "\n",
    "for outer in range(1,100):\n",
    "    ff = f_fun(x_guess) - theta\n",
    "    x_outer.append(x_guess)\n",
    "    print('\\touter iteration: ', np.abs(ff) )\n",
    "    if np.abs(ff) < 1e-10:\n",
    "        break\n",
    "    \n",
    "    x_k = x_guess\n",
    "    for inner in range(1,100):\n",
    "        ff_k = f1_fun(x_guess) - ( f2_fun(x_k) + q_fun(x_k)*(x_guess-x_k) )  - theta\n",
    "        print('inner')\n",
    "        print(x_guess)\n",
    "        print( f1_fun(x_guess))\n",
    "        print(( f2_fun(x_k) + q_fun(x_k)*(x_guess-x_k) ) )\n",
    "        print(theta)\n",
    "        d = p_fun(x_guess) - q_fun(x_k)\n",
    "        print('\\t\\tinner iteration: ', np.abs(ff_k) )\n",
    "        if np.abs(ff_k) < 1e-10:\n",
    "            break\n",
    "        x_guess = x_guess - 1/d *(ff_k)\n",
    "        x_inner.append(x_guess)\n",
    "#         print('\\t\\t\\tT_guess: ', T_guess)\n",
    "x_guess"
   ]
  },
  {
   "cell_type": "markdown",
   "metadata": {},
   "source": [
    "check"
   ]
  },
  {
   "cell_type": "code",
   "execution_count": 62,
   "metadata": {},
   "outputs": [
    {
     "data": {
      "text/plain": [
       "0.0"
      ]
     },
     "execution_count": 62,
     "metadata": {},
     "output_type": "execute_result"
    }
   ],
   "source": [
    "f_fun(x_guess)-theta"
   ]
  },
  {
   "cell_type": "code",
   "execution_count": 53,
   "metadata": {},
   "outputs": [
    {
     "data": {
      "text/plain": [
       "0.329940725179391"
      ]
     },
     "execution_count": 53,
     "metadata": {},
     "output_type": "execute_result"
    }
   ],
   "source": [
    "f_fun(x_guess)"
   ]
  },
  {
   "cell_type": "code",
   "execution_count": 62,
   "metadata": {},
   "outputs": [],
   "source": [
    "x = np.linspace(-2.5,+0.1,1001)\n",
    "f = np.zeros(len(x))\n",
    "df = np.zeros(len(x))\n",
    "\n",
    "             \n",
    "for i in range(0,len(x)):\n",
    "    f1[i] = f1_fun(x[i], theta_s, theta_r, alpha, n, x_star)\n",
    "    f2[i] = f2_fun(x[i], theta_s, theta_r, alpha, n, x_star)\n",
    "\n",
    "x_detail = np.linspace(-0.698,-0.6925,100)\n",
    "f1_detail = np.zeros(len(x_detail))\n",
    "for i in range(0,len(x_detail)):\n",
    "    f1_detail[i] = f1_fun(x_detail[i], theta_s, theta_r, alpha, n, x_star)\n",
    "\n",
    "f1_inner = np.zeros(len(x_inner))\n",
    "for i in range(0,len(x_inner)):\n",
    "    f1_inner[i] = f1_fun(x_inner[i], theta_s, theta_r, alpha, n, x_star)\n",
    "\n",
    "f2_outer = np.zeros(len(x_outer))\n",
    "for i in range(0,len(x_outer)):\n",
    "    f2_outer[i] = f2_fun(x_outer[i], theta_s, theta_r, alpha, n, x_star)\n"
   ]
  },
  {
   "cell_type": "code",
   "execution_count": 100,
   "metadata": {},
   "outputs": [
    {
     "ename": "ValueError",
     "evalue": "x and y must have same first dimension, but have shapes (4,) and (5,)",
     "output_type": "error",
     "traceback": [
      "\u001b[1;31m---------------------------------------------------------------------------\u001b[0m",
      "\u001b[1;31mValueError\u001b[0m                                Traceback (most recent call last)",
      "\u001b[1;32m<ipython-input-100-f8f59b73a6c6>\u001b[0m in \u001b[0;36m<module>\u001b[1;34m\u001b[0m\n\u001b[0;32m      5\u001b[0m \u001b[0max\u001b[0m\u001b[1;33m[\u001b[0m\u001b[1;36m0\u001b[0m\u001b[1;33m]\u001b[0m\u001b[1;33m.\u001b[0m\u001b[0mplot\u001b[0m\u001b[1;33m(\u001b[0m\u001b[0mx\u001b[0m\u001b[1;33m,\u001b[0m \u001b[0mf1\u001b[0m\u001b[1;33m,\u001b[0m \u001b[0mlabel\u001b[0m\u001b[1;33m=\u001b[0m\u001b[1;34m'$\\\\theta_1(\\psi)$'\u001b[0m\u001b[1;33m,\u001b[0m \u001b[0mcolor\u001b[0m\u001b[1;33m=\u001b[0m\u001b[1;34m'0.2'\u001b[0m\u001b[1;33m)\u001b[0m\u001b[1;33m\u001b[0m\u001b[1;33m\u001b[0m\u001b[0m\n\u001b[0;32m      6\u001b[0m \u001b[0max\u001b[0m\u001b[1;33m[\u001b[0m\u001b[1;36m0\u001b[0m\u001b[1;33m]\u001b[0m\u001b[1;33m.\u001b[0m\u001b[0mhlines\u001b[0m\u001b[1;33m(\u001b[0m\u001b[1;36m0.35\u001b[0m\u001b[1;33m,\u001b[0m \u001b[0mxmin\u001b[0m\u001b[1;33m=\u001b[0m\u001b[0mmin\u001b[0m\u001b[1;33m(\u001b[0m\u001b[0mx\u001b[0m\u001b[1;33m)\u001b[0m\u001b[1;33m,\u001b[0m \u001b[0mxmax\u001b[0m\u001b[1;33m=\u001b[0m\u001b[0mmax\u001b[0m\u001b[1;33m(\u001b[0m\u001b[0mx\u001b[0m\u001b[1;33m)\u001b[0m\u001b[1;33m,\u001b[0m \u001b[0mlinestyle\u001b[0m\u001b[1;33m=\u001b[0m\u001b[1;34m'--'\u001b[0m\u001b[1;33m,\u001b[0m \u001b[0mlabel\u001b[0m\u001b[1;33m=\u001b[0m\u001b[1;34m'$b$'\u001b[0m\u001b[1;33m)\u001b[0m\u001b[1;33m\u001b[0m\u001b[1;33m\u001b[0m\u001b[0m\n\u001b[1;32m----> 7\u001b[1;33m \u001b[0max\u001b[0m\u001b[1;33m[\u001b[0m\u001b[1;36m0\u001b[0m\u001b[1;33m]\u001b[0m\u001b[1;33m.\u001b[0m\u001b[0mplot\u001b[0m\u001b[1;33m(\u001b[0m\u001b[0mx_inner\u001b[0m\u001b[1;33m,\u001b[0m \u001b[0mf1_inner\u001b[0m\u001b[1;33m,\u001b[0m\u001b[1;34m'.'\u001b[0m\u001b[1;33m,\u001b[0m \u001b[0mcolor\u001b[0m\u001b[1;33m=\u001b[0m\u001b[1;34m'red'\u001b[0m\u001b[1;33m,\u001b[0m \u001b[0mmarkersize\u001b[0m\u001b[1;33m=\u001b[0m\u001b[1;36m8.1\u001b[0m\u001b[1;33m)\u001b[0m\u001b[1;33m\u001b[0m\u001b[1;33m\u001b[0m\u001b[0m\n\u001b[0m\u001b[0;32m      8\u001b[0m \u001b[0max\u001b[0m\u001b[1;33m[\u001b[0m\u001b[1;36m0\u001b[0m\u001b[1;33m]\u001b[0m\u001b[1;33m.\u001b[0m\u001b[0mannotate\u001b[0m\u001b[1;33m(\u001b[0m\u001b[0ms\u001b[0m\u001b[1;33m=\u001b[0m\u001b[1;34m'$\\psi_{0,0}$'\u001b[0m\u001b[1;33m,\u001b[0m \u001b[0mxy\u001b[0m\u001b[1;33m=\u001b[0m\u001b[1;33m(\u001b[0m\u001b[0mx_inner\u001b[0m\u001b[1;33m[\u001b[0m\u001b[1;36m0\u001b[0m\u001b[1;33m]\u001b[0m\u001b[1;33m,\u001b[0m \u001b[0mf1_inner\u001b[0m\u001b[1;33m[\u001b[0m\u001b[1;36m0\u001b[0m\u001b[1;33m]\u001b[0m\u001b[1;33m)\u001b[0m\u001b[1;33m,\u001b[0m \u001b[0mxytext\u001b[0m\u001b[1;33m=\u001b[0m\u001b[1;33m(\u001b[0m\u001b[0mx_inner\u001b[0m\u001b[1;33m[\u001b[0m\u001b[1;36m0\u001b[0m\u001b[1;33m]\u001b[0m\u001b[1;33m-\u001b[0m\u001b[1;36m3e-1\u001b[0m\u001b[1;33m,\u001b[0m \u001b[0mf1_inner\u001b[0m\u001b[1;33m[\u001b[0m\u001b[1;36m0\u001b[0m\u001b[1;33m]\u001b[0m\u001b[1;33m+\u001b[0m\u001b[1;36m2e-3\u001b[0m\u001b[1;33m)\u001b[0m\u001b[1;33m,\u001b[0m \u001b[0mfontsize\u001b[0m\u001b[1;33m=\u001b[0m\u001b[1;34m'10'\u001b[0m\u001b[1;33m)\u001b[0m\u001b[1;33m\u001b[0m\u001b[1;33m\u001b[0m\u001b[0m\n\u001b[0;32m      9\u001b[0m \u001b[0max\u001b[0m\u001b[1;33m[\u001b[0m\u001b[1;36m0\u001b[0m\u001b[1;33m]\u001b[0m\u001b[1;33m.\u001b[0m\u001b[0mannotate\u001b[0m\u001b[1;33m(\u001b[0m\u001b[0ms\u001b[0m\u001b[1;33m=\u001b[0m\u001b[1;34m'$\\psi_{0,1}$'\u001b[0m\u001b[1;33m,\u001b[0m \u001b[0mxy\u001b[0m\u001b[1;33m=\u001b[0m\u001b[1;33m(\u001b[0m\u001b[0mx_inner\u001b[0m\u001b[1;33m[\u001b[0m\u001b[1;36m1\u001b[0m\u001b[1;33m]\u001b[0m\u001b[1;33m,\u001b[0m \u001b[0mf1_inner\u001b[0m\u001b[1;33m[\u001b[0m\u001b[1;36m1\u001b[0m\u001b[1;33m]\u001b[0m\u001b[1;33m)\u001b[0m\u001b[1;33m,\u001b[0m \u001b[0mxytext\u001b[0m\u001b[1;33m=\u001b[0m\u001b[1;33m(\u001b[0m\u001b[0mx_inner\u001b[0m\u001b[1;33m[\u001b[0m\u001b[1;36m1\u001b[0m\u001b[1;33m]\u001b[0m\u001b[1;33m+\u001b[0m\u001b[1;36m8e-2\u001b[0m\u001b[1;33m,\u001b[0m \u001b[0mf1_inner\u001b[0m\u001b[1;33m[\u001b[0m\u001b[1;36m1\u001b[0m\u001b[1;33m]\u001b[0m\u001b[1;33m-\u001b[0m\u001b[1;36m1e-3\u001b[0m\u001b[1;33m)\u001b[0m\u001b[1;33m,\u001b[0m \u001b[0mfontsize\u001b[0m\u001b[1;33m=\u001b[0m\u001b[1;34m'10'\u001b[0m\u001b[1;33m)\u001b[0m\u001b[1;33m\u001b[0m\u001b[1;33m\u001b[0m\u001b[0m\n",
      "\u001b[1;32m~\\Anaconda3\\envs\\geoframe_vicenza\\lib\\site-packages\\matplotlib\\axes\\_axes.py\u001b[0m in \u001b[0;36mplot\u001b[1;34m(self, scalex, scaley, data, *args, **kwargs)\u001b[0m\n\u001b[0;32m   1663\u001b[0m         \"\"\"\n\u001b[0;32m   1664\u001b[0m         \u001b[0mkwargs\u001b[0m \u001b[1;33m=\u001b[0m \u001b[0mcbook\u001b[0m\u001b[1;33m.\u001b[0m\u001b[0mnormalize_kwargs\u001b[0m\u001b[1;33m(\u001b[0m\u001b[0mkwargs\u001b[0m\u001b[1;33m,\u001b[0m \u001b[0mmlines\u001b[0m\u001b[1;33m.\u001b[0m\u001b[0mLine2D\u001b[0m\u001b[1;33m.\u001b[0m\u001b[0m_alias_map\u001b[0m\u001b[1;33m)\u001b[0m\u001b[1;33m\u001b[0m\u001b[1;33m\u001b[0m\u001b[0m\n\u001b[1;32m-> 1665\u001b[1;33m         \u001b[0mlines\u001b[0m \u001b[1;33m=\u001b[0m \u001b[1;33m[\u001b[0m\u001b[1;33m*\u001b[0m\u001b[0mself\u001b[0m\u001b[1;33m.\u001b[0m\u001b[0m_get_lines\u001b[0m\u001b[1;33m(\u001b[0m\u001b[1;33m*\u001b[0m\u001b[0margs\u001b[0m\u001b[1;33m,\u001b[0m \u001b[0mdata\u001b[0m\u001b[1;33m=\u001b[0m\u001b[0mdata\u001b[0m\u001b[1;33m,\u001b[0m \u001b[1;33m**\u001b[0m\u001b[0mkwargs\u001b[0m\u001b[1;33m)\u001b[0m\u001b[1;33m]\u001b[0m\u001b[1;33m\u001b[0m\u001b[1;33m\u001b[0m\u001b[0m\n\u001b[0m\u001b[0;32m   1666\u001b[0m         \u001b[1;32mfor\u001b[0m \u001b[0mline\u001b[0m \u001b[1;32min\u001b[0m \u001b[0mlines\u001b[0m\u001b[1;33m:\u001b[0m\u001b[1;33m\u001b[0m\u001b[1;33m\u001b[0m\u001b[0m\n\u001b[0;32m   1667\u001b[0m             \u001b[0mself\u001b[0m\u001b[1;33m.\u001b[0m\u001b[0madd_line\u001b[0m\u001b[1;33m(\u001b[0m\u001b[0mline\u001b[0m\u001b[1;33m)\u001b[0m\u001b[1;33m\u001b[0m\u001b[1;33m\u001b[0m\u001b[0m\n",
      "\u001b[1;32m~\\Anaconda3\\envs\\geoframe_vicenza\\lib\\site-packages\\matplotlib\\axes\\_base.py\u001b[0m in \u001b[0;36m__call__\u001b[1;34m(self, *args, **kwargs)\u001b[0m\n\u001b[0;32m    223\u001b[0m                 \u001b[0mthis\u001b[0m \u001b[1;33m+=\u001b[0m \u001b[0margs\u001b[0m\u001b[1;33m[\u001b[0m\u001b[1;36m0\u001b[0m\u001b[1;33m]\u001b[0m\u001b[1;33m,\u001b[0m\u001b[1;33m\u001b[0m\u001b[1;33m\u001b[0m\u001b[0m\n\u001b[0;32m    224\u001b[0m                 \u001b[0margs\u001b[0m \u001b[1;33m=\u001b[0m \u001b[0margs\u001b[0m\u001b[1;33m[\u001b[0m\u001b[1;36m1\u001b[0m\u001b[1;33m:\u001b[0m\u001b[1;33m]\u001b[0m\u001b[1;33m\u001b[0m\u001b[1;33m\u001b[0m\u001b[0m\n\u001b[1;32m--> 225\u001b[1;33m             \u001b[1;32myield\u001b[0m \u001b[1;32mfrom\u001b[0m \u001b[0mself\u001b[0m\u001b[1;33m.\u001b[0m\u001b[0m_plot_args\u001b[0m\u001b[1;33m(\u001b[0m\u001b[0mthis\u001b[0m\u001b[1;33m,\u001b[0m \u001b[0mkwargs\u001b[0m\u001b[1;33m)\u001b[0m\u001b[1;33m\u001b[0m\u001b[1;33m\u001b[0m\u001b[0m\n\u001b[0m\u001b[0;32m    226\u001b[0m \u001b[1;33m\u001b[0m\u001b[0m\n\u001b[0;32m    227\u001b[0m     \u001b[1;32mdef\u001b[0m \u001b[0mget_next_color\u001b[0m\u001b[1;33m(\u001b[0m\u001b[0mself\u001b[0m\u001b[1;33m)\u001b[0m\u001b[1;33m:\u001b[0m\u001b[1;33m\u001b[0m\u001b[1;33m\u001b[0m\u001b[0m\n",
      "\u001b[1;32m~\\Anaconda3\\envs\\geoframe_vicenza\\lib\\site-packages\\matplotlib\\axes\\_base.py\u001b[0m in \u001b[0;36m_plot_args\u001b[1;34m(self, tup, kwargs)\u001b[0m\n\u001b[0;32m    389\u001b[0m             \u001b[0mx\u001b[0m\u001b[1;33m,\u001b[0m \u001b[0my\u001b[0m \u001b[1;33m=\u001b[0m \u001b[0mindex_of\u001b[0m\u001b[1;33m(\u001b[0m\u001b[0mtup\u001b[0m\u001b[1;33m[\u001b[0m\u001b[1;33m-\u001b[0m\u001b[1;36m1\u001b[0m\u001b[1;33m]\u001b[0m\u001b[1;33m)\u001b[0m\u001b[1;33m\u001b[0m\u001b[1;33m\u001b[0m\u001b[0m\n\u001b[0;32m    390\u001b[0m \u001b[1;33m\u001b[0m\u001b[0m\n\u001b[1;32m--> 391\u001b[1;33m         \u001b[0mx\u001b[0m\u001b[1;33m,\u001b[0m \u001b[0my\u001b[0m \u001b[1;33m=\u001b[0m \u001b[0mself\u001b[0m\u001b[1;33m.\u001b[0m\u001b[0m_xy_from_xy\u001b[0m\u001b[1;33m(\u001b[0m\u001b[0mx\u001b[0m\u001b[1;33m,\u001b[0m \u001b[0my\u001b[0m\u001b[1;33m)\u001b[0m\u001b[1;33m\u001b[0m\u001b[1;33m\u001b[0m\u001b[0m\n\u001b[0m\u001b[0;32m    392\u001b[0m \u001b[1;33m\u001b[0m\u001b[0m\n\u001b[0;32m    393\u001b[0m         \u001b[1;32mif\u001b[0m \u001b[0mself\u001b[0m\u001b[1;33m.\u001b[0m\u001b[0mcommand\u001b[0m \u001b[1;33m==\u001b[0m \u001b[1;34m'plot'\u001b[0m\u001b[1;33m:\u001b[0m\u001b[1;33m\u001b[0m\u001b[1;33m\u001b[0m\u001b[0m\n",
      "\u001b[1;32m~\\Anaconda3\\envs\\geoframe_vicenza\\lib\\site-packages\\matplotlib\\axes\\_base.py\u001b[0m in \u001b[0;36m_xy_from_xy\u001b[1;34m(self, x, y)\u001b[0m\n\u001b[0;32m    268\u001b[0m         \u001b[1;32mif\u001b[0m \u001b[0mx\u001b[0m\u001b[1;33m.\u001b[0m\u001b[0mshape\u001b[0m\u001b[1;33m[\u001b[0m\u001b[1;36m0\u001b[0m\u001b[1;33m]\u001b[0m \u001b[1;33m!=\u001b[0m \u001b[0my\u001b[0m\u001b[1;33m.\u001b[0m\u001b[0mshape\u001b[0m\u001b[1;33m[\u001b[0m\u001b[1;36m0\u001b[0m\u001b[1;33m]\u001b[0m\u001b[1;33m:\u001b[0m\u001b[1;33m\u001b[0m\u001b[1;33m\u001b[0m\u001b[0m\n\u001b[0;32m    269\u001b[0m             raise ValueError(\"x and y must have same first dimension, but \"\n\u001b[1;32m--> 270\u001b[1;33m                              \"have shapes {} and {}\".format(x.shape, y.shape))\n\u001b[0m\u001b[0;32m    271\u001b[0m         \u001b[1;32mif\u001b[0m \u001b[0mx\u001b[0m\u001b[1;33m.\u001b[0m\u001b[0mndim\u001b[0m \u001b[1;33m>\u001b[0m \u001b[1;36m2\u001b[0m \u001b[1;32mor\u001b[0m \u001b[0my\u001b[0m\u001b[1;33m.\u001b[0m\u001b[0mndim\u001b[0m \u001b[1;33m>\u001b[0m \u001b[1;36m2\u001b[0m\u001b[1;33m:\u001b[0m\u001b[1;33m\u001b[0m\u001b[1;33m\u001b[0m\u001b[0m\n\u001b[0;32m    272\u001b[0m             raise ValueError(\"x and y can be no greater than 2-D, but have \"\n",
      "\u001b[1;31mValueError\u001b[0m: x and y must have same first dimension, but have shapes (4,) and (5,)"
     ]
    },
    {
     "data": {
      "image/png": "[encoded data removed]",
      "text/plain": [
       "<Figure size 566.929x350.389 with 2 Axes>"
      ]
     },
     "metadata": {},
     "output_type": "display_data"
    }
   ],
   "source": [
    "width = 20/2.54\n",
    "fig, ax = plt.subplots(1,2,sharey='col',figsize=(width,width/1.618))\n",
    "\n",
    "\n",
    "ax[0].plot(x, f1, label='$\\\\theta_1(\\psi)$', color='0.2')\n",
    "ax[0].hlines(0.35, xmin=min(x), xmax=max(x), linestyle='--', label='$b$')\n",
    "ax[0].plot(x_inner, f1_inner,'.', color='red', markersize=8.1)\n",
    "ax[0].annotate(s='$\\psi_{0,0}$', xy=(x_inner[0], f1_inner[0]), xytext=(x_inner[0]-3e-1, f1_inner[0]+2e-3), fontsize='10')\n",
    "ax[0].annotate(s='$\\psi_{0,1}$', xy=(x_inner[1], f1_inner[1]), xytext=(x_inner[1]+8e-2, f1_inner[1]-1e-3), fontsize='10')\n",
    "\n",
    "# location for the zoomed portion \n",
    "sub_axes = plt.axes([.19, .65, .2, .2]) \n",
    "# plot the zoomed portion\n",
    "sub_axes.plot(x_detail, f1_detail, color='0.2') \n",
    "sub_axes.plot(x_inner[2:], f1_inner[2:],'.', color = 'red', markersize=8.1 ) \n",
    "sub_axes.set_ylim([0.3498,0.3505])\n",
    "sub_axes.hlines(0.35, xmin=min(x_detail), xmax=max(x_detail), linestyle='--')\n",
    "sub_axes.annotate(s='$\\psi_{0,2}$', xy=(x_inner[2], f1_inner[2]), xytext=(x_inner[2]-8e-4, f1_inner[2]+1e-4), fontsize='10')\n",
    "sub_axes.annotate(s='$\\psi_{0,3}$', xy=(x_inner[3], f1_inner[3]), xytext=(x_inner[3]-8e-4, f1_inner[3]+1e-4), fontsize='10')\n",
    "\n",
    "mark_inset(ax[0], sub_axes, loc1=1, loc2=3, fc=\"none\", ec=\"0.5\")\n",
    "\n",
    "plt.setp(sub_axes, xticks=[-0.697,-0.694], yticks=[0.35])\n",
    "ax[0].set_xlabel('$\\psi$ [m]')\n",
    "ax[0].legend(loc='lower right')\n",
    "\n",
    "ax[1].plot(x, f2, label='$\\\\theta_2(\\psi)$', color='0.2')\n",
    "ax[1].plot(x_outer, f2_outer,'.', color='red', markersize=8.1)\n",
    "ax[1].annotate(s='$\\psi_{0}$', xy=(x_outer[0], f2_outer[0]), xytext=(x_outer[0], f2_outer[0]+5e-4), fontsize='10')\n",
    "ax[1].annotate(s='$\\psi_{1}$', xy=(x_outer[1], f2_outer[1]), xytext=(x_outer[1], f2_outer[1]+5e-4), fontsize='10')\n",
    "\n",
    "ax[1].set_xlabel('$\\psi$ [m]')\n",
    "\n",
    "ax[1].legend()\n",
    "plt.show()"
   ]
  },
  {
   "cell_type": "code",
   "execution_count": 105,
   "metadata": {},
   "outputs": [
    {
     "data": {
      "image/png": "[encoded data removed]",
      "text/plain": [
       "<Figure size 340.157x210.233 with 3 Axes>"
      ]
     },
     "metadata": {},
     "output_type": "display_data"
    }
   ],
   "source": [
    "width = 12/2.54\n",
    "\n",
    "line_width=0.8\n",
    "fig, ax = plt.subplots(1,2,sharey='col',figsize=(width,width/1.618))\n",
    "\n",
    "\n",
    "ax[0].plot(x, f1, label='$\\\\theta_1(\\psi)$', color='0.2', linewidth=line_width)\n",
    "ax[0].hlines(0.35, xmin=min(x), xmax=max(x), linestyle='--', label='$b$', linewidth=line_width)\n",
    "ax[0].plot(x_inner, f1_inner,'.', color='red', markersize=8.1)\n",
    "ax[0].annotate(s='$\\psi^{0,0}$', xy=(x_inner[0], f1_inner[0]), xytext=(x_inner[0]-3e-1, f1_inner[0]+3e-3), fontsize='8')\n",
    "ax[0].annotate(s='$\\psi^{0,1}$', xy=(x_inner[1], f1_inner[1]), xytext=(x_inner[1]+8e-2, f1_inner[1]-1e-3), fontsize='8')\n",
    "ax[0].annotate(s='(a)', xy=(-2.5,0.31), fontsize='8')\n",
    "\n",
    "# location for the zoomed portion \n",
    "sub_axes = plt.axes([.19, .65, .2, .2]) \n",
    "# plot the zoomed portion\n",
    "sub_axes.plot(x_detail, f1_detail, color='0.2', linewidth=line_width) \n",
    "sub_axes.plot(x_inner[2:], f1_inner[2:],'.', color = 'red', markersize=8.1, linewidth=line_width ) \n",
    "sub_axes.set_ylim([0.3498,0.3505])\n",
    "sub_axes.hlines(0.35, xmin=min(x_detail), xmax=max(x_detail), linestyle='--', linewidth=line_width)\n",
    "sub_axes.annotate(s='$\\psi^{0,2}$', xy=(x_inner[2], f1_inner[2]), xytext=(x_inner[2]-1e-3, f1_inner[2]+1e-4), fontsize='8')\n",
    "sub_axes.annotate(s='$\\psi^{0,3}$', xy=(x_inner[3], f1_inner[3]), xytext=(x_inner[3]-8e-4, f1_inner[3]+1e-4), fontsize='8')\n",
    "\n",
    "mark_inset(ax[0], sub_axes, loc1=1, loc2=3, fc=\"none\", ec=\"0.5\")\n",
    "\n",
    "plt.setp(sub_axes, xticks=[], yticks=[0.35])\n",
    "ax[0].set_xlabel('$\\psi$ [m]')\n",
    "ax[0].legend(loc='lower right')\n",
    "\n",
    "\n",
    "ax[1].plot(x, f2, label='$\\\\theta_2(\\psi)$', color='0.2', linewidth=line_width)\n",
    "ax[1].vlines(x_star,ymin=min(f2), ymax=max(f2), linewidth=line_width, linestyle='--',label='$\\psi^*$')\n",
    "\n",
    "ax[1].plot(x_outer, f2_outer,'.', color='red', markersize=8.1, linewidth=line_width)\n",
    "ax[1].annotate(s='$\\psi^{0}$', xy=(x_outer[0], f2_outer[0]), xytext=(x_outer[0], f2_outer[0]+5e-4), fontsize='8')\n",
    "ax[1].annotate(s='$\\psi^{1}$', xy=(x_outer[1], f2_outer[1]), xytext=(x_outer[1], f2_outer[1]+5e-4), fontsize='8')\n",
    "ax[1].annotate(s='(b)', xy=(-2.5,0.0027), fontsize='8')\n",
    "# ax[1].annotate(s='$\\psi^*$', xy=(-0.6,0.007), fontsize='8')\n",
    "\n",
    "ax[1].set_xlabel('$\\psi$ [m]')\n",
    "# ax[1].set_ylabel('$\\\\theta$ [-]')\n",
    "\n",
    "plt.subplots_adjust( wspace=0.3, hspace=0.)     \n",
    "# fig.tight_layout()\n",
    "\n",
    "ax[1].legend()\n",
    "plt.show()\n",
    "# fig.savefig('Richards1D_NCZ_scalare.pdf', dpi=300, bbox_inches='tight')"
   ]
  },
  {
   "cell_type": "markdown",
   "metadata": {},
   "source": [
    "## Newton"
   ]
  },
  {
   "cell_type": "code",
   "execution_count": 134,
   "metadata": {},
   "outputs": [],
   "source": [
    "x = np.linspace(-.75,0.15,1001)\n",
    "f = np.zeros(len(x))\n",
    "df = np.zeros(len(x))\n",
    "\n",
    "             \n",
    "for i in range(0,len(x)):\n",
    "    f[i] = f_fun(x[i], theta_s, theta_r, alpha, n)\n",
    "    df[i] = df_fun(x[i], theta_s, theta_r, alpha, n)\n"
   ]
  },
  {
   "cell_type": "code",
   "execution_count": 135,
   "metadata": {},
   "outputs": [
    {
     "data": {
      "text/plain": [
       "1282994600380.4727"
      ]
     },
     "execution_count": 135,
     "metadata": {},
     "output_type": "execute_result"
    }
   ],
   "source": [
    "theta = 0.405\n",
    "\n",
    "x_guess = -0.17516720884239673+0.1\n",
    "x_guess = -0.4\n",
    "x_guess = -1\n",
    "# x_guess = x_star+0.05\n",
    "x_iter = []\n",
    "\n",
    "for outer in range(1,100):\n",
    "    ff = f_fun(x_guess, theta_s, theta_r, alpha, n) - theta\n",
    "    x_iter.append(x_guess)\n",
    "    d = df_fun(x_guess, theta_s, theta_r, alpha, n)\n",
    "#         print('\\t\\tinner iteration: ', np.abs(f_k) )\n",
    "    if np.abs(ff) < 1e-10:\n",
    "        break\n",
    "    x_guess = x_guess - 1/d *(ff)\n",
    "\n",
    "x_guess"
   ]
  },
  {
   "cell_type": "code",
   "execution_count": 140,
   "metadata": {},
   "outputs": [
    {
     "data": {
      "text/plain": [
       "[-1,\n",
       " 1.101966875746224,\n",
       " -49999999.99999947,\n",
       " 1282994600389.8499,\n",
       " -50000000.0,\n",
       " 1282994600389.8699,\n",
       " -49999999.99975586,\n",
       " 1282994600380.4727,\n",
       " -50000000.0,\n",
       " 1282994600389.8699,\n",
       " -49999999.99975586,\n",
       " 1282994600380.4727,\n",
       " -50000000.0,\n",
       " 1282994600389.8699,\n",
       " -49999999.99975586,\n",
       " 1282994600380.4727,\n",
       " -50000000.0,\n",
       " 1282994600389.8699,\n",
       " -49999999.99975586,\n",
       " 1282994600380.4727,\n",
       " -50000000.0,\n",
       " 1282994600389.8699,\n",
       " -49999999.99975586,\n",
       " 1282994600380.4727,\n",
       " -50000000.0,\n",
       " 1282994600389.8699,\n",
       " -49999999.99975586,\n",
       " 1282994600380.4727,\n",
       " -50000000.0,\n",
       " 1282994600389.8699,\n",
       " -49999999.99975586,\n",
       " 1282994600380.4727,\n",
       " -50000000.0,\n",
       " 1282994600389.8699,\n",
       " -49999999.99975586,\n",
       " 1282994600380.4727,\n",
       " -50000000.0,\n",
       " 1282994600389.8699,\n",
       " -49999999.99975586,\n",
       " 1282994600380.4727,\n",
       " -50000000.0,\n",
       " 1282994600389.8699,\n",
       " -49999999.99975586,\n",
       " 1282994600380.4727,\n",
       " -50000000.0,\n",
       " 1282994600389.8699,\n",
       " -49999999.99975586,\n",
       " 1282994600380.4727,\n",
       " -50000000.0,\n",
       " 1282994600389.8699,\n",
       " -49999999.99975586,\n",
       " 1282994600380.4727,\n",
       " -50000000.0,\n",
       " 1282994600389.8699,\n",
       " -49999999.99975586,\n",
       " 1282994600380.4727,\n",
       " -50000000.0,\n",
       " 1282994600389.8699,\n",
       " -49999999.99975586,\n",
       " 1282994600380.4727,\n",
       " -50000000.0,\n",
       " 1282994600389.8699,\n",
       " -49999999.99975586,\n",
       " 1282994600380.4727,\n",
       " -50000000.0,\n",
       " 1282994600389.8699,\n",
       " -49999999.99975586,\n",
       " 1282994600380.4727,\n",
       " -50000000.0,\n",
       " 1282994600389.8699,\n",
       " -49999999.99975586,\n",
       " 1282994600380.4727,\n",
       " -50000000.0,\n",
       " 1282994600389.8699,\n",
       " -49999999.99975586,\n",
       " 1282994600380.4727,\n",
       " -50000000.0,\n",
       " 1282994600389.8699,\n",
       " -49999999.99975586,\n",
       " 1282994600380.4727,\n",
       " -50000000.0,\n",
       " 1282994600389.8699,\n",
       " -49999999.99975586,\n",
       " 1282994600380.4727,\n",
       " -50000000.0,\n",
       " 1282994600389.8699,\n",
       " -49999999.99975586,\n",
       " 1282994600380.4727,\n",
       " -50000000.0,\n",
       " 1282994600389.8699,\n",
       " -49999999.99975586,\n",
       " 1282994600380.4727,\n",
       " -50000000.0,\n",
       " 1282994600389.8699,\n",
       " -49999999.99975586,\n",
       " 1282994600380.4727,\n",
       " -50000000.0,\n",
       " 1282994600389.8699,\n",
       " -49999999.99975586]"
      ]
     },
     "execution_count": 140,
     "metadata": {},
     "output_type": "execute_result"
    }
   ],
   "source": [
    "x_iter"
   ]
  },
  {
   "cell_type": "code",
   "execution_count": 136,
   "metadata": {},
   "outputs": [
    {
     "data": {
      "text/plain": [
       "-1.0518746419228404"
      ]
     },
     "execution_count": 136,
     "metadata": {},
     "output_type": "execute_result"
    }
   ],
   "source": [
    "x_star+0.15"
   ]
  },
  {
   "cell_type": "code",
   "execution_count": 137,
   "metadata": {},
   "outputs": [
    {
     "data": {
      "text/plain": [
       "0.05566492849675296"
      ]
     },
     "execution_count": 137,
     "metadata": {},
     "output_type": "execute_result"
    }
   ],
   "source": [
    "df_fun(x_star, theta_s, theta_r, alpha, n)"
   ]
  },
  {
   "cell_type": "code",
   "execution_count": 138,
   "metadata": {},
   "outputs": [
    {
     "data": {
      "text/plain": [
       "array([2.57609738e-01, 4.10000000e-01, 9.50241594e-02, 1.28709460e+02,\n",
       "       9.50241594e-02, 1.28709460e+02, 9.50241594e-02, 1.28709460e+02,\n",
       "       9.50241594e-02, 1.28709460e+02, 9.50241594e-02, 1.28709460e+02,\n",
       "       9.50241594e-02, 1.28709460e+02, 9.50241594e-02, 1.28709460e+02,\n",
       "       9.50241594e-02, 1.28709460e+02, 9.50241594e-02, 1.28709460e+02,\n",
       "       9.50241594e-02, 1.28709460e+02, 9.50241594e-02, 1.28709460e+02,\n",
       "       9.50241594e-02, 1.28709460e+02, 9.50241594e-02, 1.28709460e+02,\n",
       "       9.50241594e-02, 1.28709460e+02, 9.50241594e-02, 1.28709460e+02,\n",
       "       9.50241594e-02, 1.28709460e+02, 9.50241594e-02, 1.28709460e+02,\n",
       "       9.50241594e-02, 1.28709460e+02, 9.50241594e-02, 1.28709460e+02,\n",
       "       9.50241594e-02, 1.28709460e+02, 9.50241594e-02, 1.28709460e+02,\n",
       "       9.50241594e-02, 1.28709460e+02, 9.50241594e-02, 1.28709460e+02,\n",
       "       9.50241594e-02, 1.28709460e+02, 9.50241594e-02, 1.28709460e+02,\n",
       "       9.50241594e-02, 1.28709460e+02, 9.50241594e-02, 1.28709460e+02,\n",
       "       9.50241594e-02, 1.28709460e+02, 9.50241594e-02, 1.28709460e+02,\n",
       "       9.50241594e-02, 1.28709460e+02, 9.50241594e-02, 1.28709460e+02,\n",
       "       9.50241594e-02, 1.28709460e+02, 9.50241594e-02, 1.28709460e+02,\n",
       "       9.50241594e-02, 1.28709460e+02, 9.50241594e-02, 1.28709460e+02,\n",
       "       9.50241594e-02, 1.28709460e+02, 9.50241594e-02, 1.28709460e+02,\n",
       "       9.50241594e-02, 1.28709460e+02, 9.50241594e-02, 1.28709460e+02,\n",
       "       9.50241594e-02, 1.28709460e+02, 9.50241594e-02, 1.28709460e+02,\n",
       "       9.50241594e-02, 1.28709460e+02, 9.50241594e-02, 1.28709460e+02,\n",
       "       9.50241594e-02, 1.28709460e+02, 9.50241594e-02, 1.28709460e+02,\n",
       "       9.50241594e-02, 1.28709460e+02, 9.50241594e-02, 1.28709460e+02,\n",
       "       9.50241594e-02, 1.28709460e+02, 9.50241594e-02])"
      ]
     },
     "execution_count": 138,
     "metadata": {},
     "output_type": "execute_result"
    }
   ],
   "source": [
    "x_detail = np.linspace(-0.125,-0.12,100)\n",
    "f1_detail = np.zeros(len(x_detail))\n",
    "for i in range(0,len(x_detail)):\n",
    "    f1_detail[i] = f1_fun(x_detail[i], theta_s, theta_r, alpha, n, x_star)\n",
    "\n",
    "f_iter = np.zeros(len(x_iter))\n",
    "for i in range(0,len(x_iter)):\n",
    "    f_iter[i] = f_fun(x_iter[i], theta_s, theta_r, alpha, n)\n",
    "f_iter\n"
   ]
  },
  {
   "cell_type": "code",
   "execution_count": 139,
   "metadata": {},
   "outputs": [
    {
     "data": {
      "image/png": "[encoded data removed]",
      "text/plain": [
       "<Figure size 566.929x350.389 with 2 Axes>"
      ]
     },
     "metadata": {},
     "output_type": "display_data"
    }
   ],
   "source": [
    "width = 20/2.54\n",
    "fig, ax = plt.subplots(1,1,figsize=(width,width/1.618))\n",
    "\n",
    "\n",
    "ax.plot(x, f, label='$\\\\theta(\\psi)$', color='0.2')\n",
    "plt.grid(False)\n",
    "ax1 = ax.twinx()\n",
    "ax1.plot(x, df, label='$\\\\theta(\\psi)$', color='green')\n",
    "ax.hlines(theta, xmin=min(x), xmax=max(x), linestyle='--', label='$b$')\n",
    "ax.plot(x_iter, f_iter,'.', color='red', markersize=8.1)\n",
    "# ax.annotate(s='$\\psi_{0}$', xy=(x_iter[0], f_iter[0]), xytext=(x_iter[0]-4e-3, f_iter[0]+2e-4), fontsize='10')\n",
    "# ax.annotate(s='$\\psi_{1}$', xy=(x_iter[1], f_iter[1]), xytext=(x_iter[1], f_iter[1]), fontsize='10')\n",
    "\n",
    "# # location for the zoomed portion \n",
    "# sub_axes = plt.axes([.17, .55, .3, .3]) \n",
    "# # plot the zoomed portion\n",
    "# sub_axes.plot(x_detail, f1_detail, color='0.2') \n",
    "# sub_axes.plot(x_iter[1], f_iter[1],'.', color = 'red', markersize=8.1 ) \n",
    "# # sub_axes.plot(x_iter[3], f_iter[3],'.', color = 'red', markersize=8.1 ) \n",
    "# # sub_axes.plot(x_iter[2:], f_iter[2:],'.', color = 'red', markersize=8.1 ) \n",
    "\n",
    "# sub_axes.set_ylim([0.399,0.401])\n",
    "# sub_axes.hlines(0.4, xmin=min(x_detail), xmax=max(x_detail), linestyle='--')\n",
    "# sub_axes.annotate(s='$\\psi_{1}$', xy=(x_iter[1], f_iter[1]), xytext=(x_iter[1], f_iter[1]-3e-4), fontsize='10')\n",
    "# # sub_axes.annotate(s='$\\psi_{2}$', xy=(x_iter[3], f_iter[3]), xytext=(x_iter[3], f_iter[3]+2e-4), fontsize='10')\n",
    "\n",
    "# mark_inset(ax, sub_axes, loc1=1, loc2=3, fc=\"none\", ec=\"0.5\")\n",
    "\n",
    "plt.setp(sub_axes, yticks=[0.4])\n",
    "ax.set_xlabel('$\\psi$ [m]')\n",
    "# ax.legend(loc='lower right')\n",
    "plt.grid(False)\n",
    "\n",
    "plt.show()"
   ]
  },
  {
   "cell_type": "code",
   "execution_count": 508,
   "metadata": {},
   "outputs": [
    {
     "data": {
      "text/plain": [
       "-146.56547495870674"
      ]
     },
     "execution_count": 508,
     "metadata": {},
     "output_type": "execute_result"
    }
   ],
   "source": [
    "theta = 0.15\n",
    "theta_s = 0.41\n",
    "theta_r = 0.095\n",
    "alpha = 1.9\n",
    "n = 1.31\n",
    "\n",
    "x_guess = -0.17516720884239673-0.1\n",
    "# x_guess = -1.5\n",
    "x_iter = []\n",
    "\n",
    "for outer in range(1,100):\n",
    "    ff = f_fun(x_guess, theta_s, theta_r, alpha, n) - theta\n",
    "    x_iter.append(x_guess)\n",
    "    d = df_fun(x_guess, theta_s, theta_r, alpha, n)\n",
    "#         print('\\t\\tinner iteration: ', np.abs(f_k) )\n",
    "    if np.abs(ff) < 1e-10:\n",
    "        break\n",
    "    x_guess = x_guess - 1/d *(ff)\n",
    "\n",
    "x_guess"
   ]
  },
  {
   "cell_type": "code",
   "execution_count": 509,
   "metadata": {},
   "outputs": [
    {
     "data": {
      "text/plain": [
       "0.15000000000001146"
      ]
     },
     "execution_count": 509,
     "metadata": {},
     "output_type": "execute_result"
    }
   ],
   "source": [
    "f_fun(x_guess, theta_s, theta_r, alpha, n)"
   ]
  },
  {
   "cell_type": "code",
   "execution_count": 515,
   "metadata": {},
   "outputs": [
    {
     "data": {
      "text/plain": [
       "17520"
      ]
     },
     "execution_count": 515,
     "metadata": {},
     "output_type": "execute_result"
    }
   ],
   "source": [
    "365*48"
   ]
  },
  {
   "cell_type": "code",
   "execution_count": null,
   "metadata": {},
   "outputs": [],
   "source": []
  }
 ],
 "metadata": {
  "kernelspec": {
   "display_name": "Python 3",
   "language": "python",
   "name": "python3"
  },
  "language_info": {
   "codemirror_mode": {
    "name": "ipython",
    "version": 3
   },
   "file_extension": ".py",
   "mimetype": "text/x-python",
   "name": "python",
   "nbconvert_exporter": "python",
   "pygments_lexer": "ipython3",
   "version": "3.7.7"
  }
 },
 "nbformat": 4,
 "nbformat_minor": 2
}
